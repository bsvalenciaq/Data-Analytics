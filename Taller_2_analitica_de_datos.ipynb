{
  "nbformat": 4,
  "nbformat_minor": 0,
  "metadata": {
    "colab": {
      "name": "Taller_2_analitica_de_datos.ipynb",
      "provenance": [],
      "collapsed_sections": []
    },
    "kernelspec": {
      "name": "python3",
      "display_name": "Python 3"
    },
    "language_info": {
      "name": "python"
    }
  },
  "cells": [
    {
      "cell_type": "markdown",
      "source": [
        " # **Analitica de Datos - Taller 2**\n",
        "  **Brayan Valencia Quintero**"
      ],
      "metadata": {
        "id": "Cr_HFK44bXBv"
      }
    },
    {
      "cell_type": "markdown",
      "source": [
        "## 1. Conceptos basicos en clasificacion "
      ],
      "metadata": {
        "id": "6f2mBAVybbQq"
      }
    },
    {
      "cell_type": "markdown",
      "source": [
        "### – Realizar los ejercicios planteados en el cuaderno Teoría de detección-simulación de Monte-Carlo.\n",
        "\n",
        "https://colab.research.google.com/drive/1XlaveeVdjk2x8OzNvRrwTP46-AD5seKk?authuser=1"
      ],
      "metadata": {
        "id": "gvMijJnMboEm"
      }
    },
    {
      "cell_type": "markdown",
      "source": [
        "### – Realizar los ejercicios planteados en el cuaderno Clasificadores Bayesianos.\n",
        "\n",
        "https://colab.research.google.com/drive/12UsTAgkZ4gkaaBonBlbcKfo6nW3DbwHU?authuser=1#scrollTo=n5exa0rrWnME"
      ],
      "metadata": {
        "id": "ZUumy8eEcBK5"
      }
    },
    {
      "cell_type": "markdown",
      "source": [
        "### – Realizar los ejercicios planteados en el cuaderno Medidas de desempeño en clasificación.\n",
        "\n",
        "https://colab.research.google.com/drive/1uOLwbztDkg629Tu23-TtOUz4_H9GaPFj?authuser=1"
      ],
      "metadata": {
        "id": "VnZ-okwadorr"
      }
    },
    {
      "cell_type": "markdown",
      "source": [
        "### – Realizar los ejercicios planteados en el cuaderno Comparación clasificadores.\n",
        "\n",
        "https://colab.research.google.com/drive/1Nu3qbYOAtiZ7e8piuvNMnXmMnzfGaxbO?authuser=1#scrollTo=khSouH2Zk2kK"
      ],
      "metadata": {
        "id": "VPjC1l3ceGZj"
      }
    },
    {
      "cell_type": "markdown",
      "source": [
        "## 2. Aprendizaje no supervisado"
      ],
      "metadata": {
        "id": "HKm3IC4ip10Z"
      }
    },
    {
      "cell_type": "markdown",
      "source": [
        "### – Discuta cuáles son las principales diferencias y aplicaciones relacionadas con aprendizaje supervisado y aprendizaje nov supervisado \n",
        "\n",
        "https://github.com/amalvarezme/AnaliticaDatos/blob/master/4_NoSupervisado/1_Conglomerados_Nosupervisado.pdf\n",
        "\n",
        "\"En el aprendizaje supervisado los datos tienen etiquetas, buscando una función que dada la entrada, les asigne la etiqueta de salida adecuada. El algoritmo se entrena con una base  de datos y así aprende a asignar la etiqueta de salida adecuada a un nuevo valor, es decir, predice el valor de salida\n",
        "\n",
        "El aprendizaje supervisado se suele usar en:\n",
        "\n",
        "- Problemas de clasificación \n",
        "- Problemas de regresión \"\n",
        "\n",
        "\n",
        "\"El aprendizaje no supervisado es mas util cuando sólo conocemos los datos de entrada, pero no existen datos de salida que correspondan a una determinada entrada. Por tanto, sólo podemos describir la estructura de los datos, para intentar encontrar algún tipo de organización que simplifique el análisis. Por ello, tienen un carácter exploratorio.\n",
        "\n",
        "El aprendizaje no supervisado se suele usar en:\n",
        "\n",
        "- Problemas de clustering\n",
        "- Agrupamientos de co-ocurrencias\"\n",
        "\n",
        "\n"
      ],
      "metadata": {
        "id": "eGqvN3WKqAZV"
      }
    },
    {
      "cell_type": "markdown",
      "source": [
        "### – Realizar los ejercicios planteados en el cuaderno Aprendizaje no supervisado - reducción de dimensión-conglomerados.\n",
        "\n",
        "https://colab.research.google.com/drive/1eQKz5_oLezaXFTc3GQSEhHy9EchLKEI5?authuser=1"
      ],
      "metadata": {
        "id": "7jFq5iXlrWU6"
      }
    },
    {
      "cell_type": "markdown",
      "source": [
        "## 3.Aprendizaje profundo"
      ],
      "metadata": {
        "id": "2NB_3RuHuBhX"
      }
    },
    {
      "cell_type": "markdown",
      "source": [
        "### – Discuta las principales diferencia entre los métodos clásicos de aprendizaje de máquina y los métodos de aprendizaje profundo (Ver material de apoyo). https://github.com/amalvarezme/AnaliticaDatos/blob/master/5_Aprendizaje_Profundo/1_Introduccion_DL.pdf  Tenga en cuenta los conceptos de optimización por gradiente descendiente con propagación hacia atrás y diferenciación automática (Ver material de apoyo). https://github.com/amalvarezme/AnaliticaDatos/blob/master/5_Aprendizaje_Profundo/2_Autodiff.pdf\n",
        "\n",
        "Encontramos que las principales diferencias entre  los metodos clasicos de aprendizaje de maquina y los metodos de aprendizaje profundo son:\n",
        "\n",
        "- En los metodos de aprendizaje profundo se obtienen mejores resultados cuando hay una cantidad mayor de datos, pero esto hace que sea necesario el uso de GPU o TPU.\n",
        "- En los metodos de clasicos de aprendizaje de maquina el algoritmo de aprendizaje toma menos tiempo par entrenar el modelo que el aprendizaje profundo, tambien como los metodos clasicos no necesitan una cantidad de datos elevada, se puede usar una maquina con capacidades mas bajas que la necesaria para poder utilizar los metodos de aprendizaje profundo\n",
        "\n",
        "- La principal diferencia entre los metodos clasicos de aprendizaje de maquina y los metodos de aprendizaje profundo es el hecho de que en los metodos de aprendizaje profundo, especificamente usando Tensorflowt, los paquetes de derivada automatican utilizan el concepto de numeros duales, tensorflow puede realizar operaciones entre arreglos representandolos como numeros duales."
      ],
      "metadata": {
        "id": "ADRwEjMfuGoQ"
      }
    },
    {
      "cell_type": "markdown",
      "source": [
        "### – Realizar los ejercicios planteados en el cuaderno Introducción al aprendizaje profundo.\n",
        "\n",
        "https://colab.research.google.com/drive/16cTrFXbUritBL3vqoEAT4s5ZeuXDONmi?authuser=1#scrollTo=8SaSInnK0Z-5"
      ],
      "metadata": {
        "id": "Z5hMYnbLu2aa"
      }
    },
    {
      "cell_type": "markdown",
      "source": [
        "### – Realizar los ejercicios planteados en el cuaderno API funcional y redes CNN.\n",
        "\n",
        "https://colab.research.google.com/drive/1o9ZdQw2PM7-6RPPcTIGRK3myjQAHtArE?authuser=1#scrollTo=4d58EKYuBaWp"
      ],
      "metadata": {
        "id": "osywnsZ_vcX5"
      }
    },
    {
      "cell_type": "markdown",
      "source": [
        "## 4. Proyecto en analítica de datos utilizando Dashboards\n"
      ],
      "metadata": {
        "id": "d0StBZFKv7HH"
      }
    },
    {
      "cell_type": "markdown",
      "source": [
        "– Según la base de datos escogida en el anteproyecto y el\n",
        "análisis exploratorio realizado, presente un Dashboard sobre\n",
        "Python-Dash (ver material de apoyo Dashboards) que\n",
        "incluya: i) Análisis exploratorios básicos con diagramas de\n",
        "pastel, caja, histogramas, y visualización 2D con técnicas de\n",
        "reducción de dimensión. ii) Predicción de la salida de interés\n",
        "(clasificación o regresión), probando al menos dos algoritmos\n",
        "clásicos y un modelo tipo aprendizaje profundo (tener\n",
        "en cuenta el estado del arte estudiado en el anteproyecto).\n",
        "iii) Gráficas que condensen la información extraida del mejor\n",
        "modelo, con las medidas de desempeño obtenidas (error\n",
        "cuadrático, absoluto, acierto, curvas roc, etc.) y la relevancia\n",
        "de los atributos procesados (interpretabilidad para explicar\n",
        "el por qué de la predicción).\n",
        "\n",
        "https://colab.research.google.com/drive/1iig35F1fEAs2Q_Mnys0ZsayMKst-3qls?authuser=1"
      ],
      "metadata": {
        "id": "TTrbBo0JwCpo"
      }
    },
    {
      "cell_type": "markdown",
      "source": [
        "**Proyecto**\n",
        "https://colab.research.google.com/drive/14ySaPtDfLL-OF3pqg6SLFNVlD-2uCyWX?authuser=1#scrollTo=ruCmlLmMc9cl\n",
        "\n",
        "**Dashboard**"
      ],
      "metadata": {
        "id": "BDxIDe5pdDa7"
      }
    },
    {
      "cell_type": "markdown",
      "source": [
        "## Referencias\n",
        "\n",
        "https://github.com/amalvarezme/AnaliticaDatos\n",
        "\n",
        "https://www.kaggle.com/andradaolteanu/work-w-audio-data-visualise-classify-recommend/notebook\n",
        "\n",
        "https://www.kaggle.com/pratx557/gtzan-music-gerne\n",
        "\n",
        "G´eron, A., (2019). Hands-on machine learning with Scikit-Learn, Keras,\n",
        "and TensorFlow: Concepts, tools, and techniques to build intelligent\n",
        "systems. O’Reilly Media.\n",
        "\n",
        "\n",
        "Bishop, C. M. (2006). Pattern recognition. Machine learning, 128(9)."
      ],
      "metadata": {
        "id": "Xm_-1hOEw3hM"
      }
    }
  ]
}